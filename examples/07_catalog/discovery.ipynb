{
 "cells": [
  {
   "cell_type": "markdown",
   "metadata": {},
   "source": [
    "# Discoverying content of interest in the Data Observatory\n",
    "\n",
    "The Discovery API is a powerful tool for exploring the available datasets in our data lake. Through its methods you would be able to navigate through the datasets and their properties, thus knowing in advanced which sources may be of interest for you before even requesting access to them. "
   ]
  },
  {
   "cell_type": "markdown",
   "metadata": {},
   "source": [
    "## Catalog: the first step for discovery\n",
    "\n",
    "The Catalog class provides the methods to be used as the starting point in your discovery. It allows you to get the complete list of categories related to the avilable datasets, for example.\n"
   ]
  },
  {
   "cell_type": "markdown",
   "metadata": {},
   "source": [
    "### Get the list of categories"
   ]
  },
  {
   "cell_type": "code",
   "execution_count": null,
   "metadata": {},
   "outputs": [],
   "source": [
    "from cartoframes.data.observatory.catalog import Catalog\n",
    "from cartoframes.data.observatory.category import Category\n",
    "\n",
    "catalog = Catalog()\n",
    "categories = catalog.categories\n",
    "\n",
    "categories"
   ]
  },
  {
   "cell_type": "code",
   "execution_count": null,
   "metadata": {},
   "outputs": [],
   "source": [
    "isinstance(categories[0], Category)"
   ]
  },
  {
   "cell_type": "markdown",
   "metadata": {},
   "source": [
    "We can also obtain the categories as a pandas DataFrame:"
   ]
  },
  {
   "cell_type": "code",
   "execution_count": null,
   "metadata": {},
   "outputs": [],
   "source": [
    "categories_df = categories.to_dataframe()\n",
    "categories_df"
   ]
  },
  {
   "cell_type": "code",
   "execution_count": null,
   "metadata": {},
   "outputs": [],
   "source": [
    "import pandas as pd\n",
    "\n",
    "isinstance(categories_df, pd.DataFrame)"
   ]
  },
  {
   "cell_type": "markdown",
   "metadata": {},
   "source": [
    "### Filter one category \n",
    "\n",
    "Since the list of categories is also a Pandas' DataFrame, we can use its already familiar methods to explore the data."
   ]
  },
  {
   "cell_type": "code",
   "execution_count": null,
   "metadata": {},
   "outputs": [],
   "source": [
    "filtered_category = categories[0]\n",
    "filtered_category"
   ]
  },
  {
   "cell_type": "code",
   "execution_count": null,
   "metadata": {},
   "outputs": [],
   "source": [
    "isinstance(filtered_category, Category)"
   ]
  },
  {
   "cell_type": "markdown",
   "metadata": {},
   "source": [
    "We can obtain the category in a pandas Series:"
   ]
  },
  {
   "cell_type": "code",
   "execution_count": null,
   "metadata": {},
   "outputs": [],
   "source": [
    "category_series = filtered_category.to_series()\n",
    "category_series\n"
   ]
  },
  {
   "cell_type": "code",
   "execution_count": null,
   "metadata": {},
   "outputs": [],
   "source": [
    "import pandas as pd\n",
    "\n",
    "isinstance(category_series, pd.Series)"
   ]
  },
  {
   "cell_type": "markdown",
   "metadata": {},
   "source": [
    "## Explore a particular category\n",
    "\n",
    "If we already know that a particular category has presence in the Catalog, we can retrieve it directly by using its id."
   ]
  },
  {
   "cell_type": "code",
   "execution_count": null,
   "metadata": {},
   "outputs": [],
   "source": [
    "category1 = catalog.categories.get('demographics')\n",
    "\n",
    "category1"
   ]
  },
  {
   "cell_type": "code",
   "execution_count": null,
   "metadata": {},
   "outputs": [],
   "source": [
    "isinstance(category1, Category)"
   ]
  },
  {
   "cell_type": "markdown",
   "metadata": {},
   "source": [
    "And we can access its different properties:"
   ]
  },
  {
   "cell_type": "code",
   "execution_count": null,
   "metadata": {},
   "outputs": [],
   "source": [
    "category1.name"
   ]
  },
  {
   "cell_type": "markdown",
   "metadata": {},
   "source": [
    "### Get the datasets for that category\n",
    "\n",
    "Once we have a Category we can use the discovery methods to get the datasets related to that category."
   ]
  },
  {
   "cell_type": "code",
   "execution_count": null,
   "metadata": {},
   "outputs": [],
   "source": [
    "demographics_datasets = category1.datasets\n",
    "demographics_datasets"
   ]
  },
  {
   "cell_type": "code",
   "execution_count": null,
   "metadata": {},
   "outputs": [],
   "source": [
    "from cartoframes.data.observatory.dataset import Dataset\n",
    "\n",
    "isinstance(demographics_datasets[0], Dataset)"
   ]
  },
  {
   "cell_type": "markdown",
   "metadata": {},
   "source": [
    "Again, we can export the data as a pandas' DataFrame:"
   ]
  },
  {
   "cell_type": "code",
   "execution_count": null,
   "metadata": {},
   "outputs": [],
   "source": [
    "demographics_datasets.to_dataframe().iloc[0]"
   ]
  },
  {
   "cell_type": "markdown",
   "metadata": {},
   "source": [
    "And as well as Category, a Dataset can be used to extract related properties:"
   ]
  },
  {
   "cell_type": "code",
   "execution_count": null,
   "metadata": {},
   "outputs": [],
   "source": [
    "d1 = demographics_datasets[0]\n",
    "\n",
    "d1.country"
   ]
  },
  {
   "cell_type": "code",
   "execution_count": null,
   "metadata": {},
   "outputs": [],
   "source": [
    "vars1 = d1.variables\n",
    "vars1"
   ]
  },
  {
   "cell_type": "code",
   "execution_count": null,
   "metadata": {},
   "outputs": [],
   "source": [
    "from cartoframes.data.observatory.variable import Variable\n",
    "\n",
    "isinstance(vars1[0], Variable)"
   ]
  },
  {
   "cell_type": "markdown",
   "metadata": {},
   "source": [
    "If we already know which dataset we want to recover, we can do so through its id or its slug:"
   ]
  },
  {
   "cell_type": "code",
   "execution_count": null,
   "metadata": {},
   "outputs": [],
   "source": [
    "print(Dataset.get('od_acsquantile_928a2a23'))"
   ]
  },
  {
   "cell_type": "markdown",
   "metadata": {},
   "source": [
    "## Navigate through the catalog with filters"
   ]
  },
  {
   "cell_type": "markdown",
   "metadata": {},
   "source": [
    "It is possible to navigate the catalog by adding nested filters that will be applied when requesting lists of entities."
   ]
  },
  {
   "cell_type": "markdown",
   "metadata": {},
   "source": [
    "For example, we can add a country filter before requesting the list of datasets and then we will only obtain the datasets from that country:"
   ]
  },
  {
   "cell_type": "code",
   "execution_count": null,
   "metadata": {},
   "outputs": [],
   "source": [
    "from cartoframes.data.observatory.catalog import Catalog\n",
    "\n",
    "catalog = Catalog()"
   ]
  },
  {
   "cell_type": "code",
   "execution_count": null,
   "metadata": {},
   "outputs": [],
   "source": [
    "catalog.country('spain').datasets"
   ]
  },
  {
   "cell_type": "markdown",
   "metadata": {},
   "source": [
    "Applied filters are saved in that catalog instance, so if we now add a new filter the list of datasets will be affected by both filters:"
   ]
  },
  {
   "cell_type": "code",
   "execution_count": null,
   "metadata": {},
   "outputs": [],
   "source": [
    "catalog.category('demographics').datasets"
   ]
  },
  {
   "cell_type": "markdown",
   "metadata": {},
   "source": [
    "We can also nest the filters in the same call with the same result:"
   ]
  },
  {
   "cell_type": "code",
   "execution_count": null,
   "metadata": {},
   "outputs": [],
   "source": [
    "catalog2 = Catalog()\n",
    "catalog2.country('usa').category('demographics').datasets"
   ]
  },
  {
   "cell_type": "markdown",
   "metadata": {},
   "source": [
    "To remove all past filters, we simply call the method to clear them:"
   ]
  },
  {
   "cell_type": "code",
   "execution_count": null,
   "metadata": {},
   "outputs": [],
   "source": [
    "catalog.clear_filters()\n",
    "catalog.datasets"
   ]
  },
  {
   "cell_type": "markdown",
   "metadata": {},
   "source": [
    "Nested filters can also be applied when requesting countries, categories, or geogrpahies:"
   ]
  },
  {
   "cell_type": "code",
   "execution_count": null,
   "metadata": {},
   "outputs": [],
   "source": [
    "catalog.clear_filters()\n",
    "catalog.category('demographics').countries"
   ]
  },
  {
   "cell_type": "code",
   "execution_count": null,
   "metadata": {},
   "outputs": [],
   "source": [
    "catalog.clear_filters()\n",
    "catalog.country('spain').categories"
   ]
  },
  {
   "cell_type": "code",
   "execution_count": null,
   "metadata": {},
   "outputs": [],
   "source": [
    "catalog.clear_filters()\n",
    "catalog.country('usa').category('demographics').geographies"
   ]
  },
  {
   "cell_type": "markdown",
   "metadata": {},
   "source": [
    "And we can use all the filters at the same time:"
   ]
  },
  {
   "cell_type": "code",
   "execution_count": null,
   "metadata": {},
   "outputs": [],
   "source": [
    "catalog.clear_filters()\n",
    "catalog.country('usa').category('demographics').geography('ags_blockgroup_1c63771c').datasets"
   ]
  },
  {
   "cell_type": "code",
   "execution_count": 45,
   "metadata": {},
   "outputs": [
    {
     "name": "stdout",
     "output_type": "stream",
     "text": [
      "SELECT t.* FROM datasets_public t WHERE t.country_id = 'usa' AND t.category_id = 'demographics' AND t.geography_id = 'carto-do-public-data.tiger.geography_usa_countyclipped_2015'\n"
     ]
    },
    {
     "data": {
      "text/plain": [
       "[<Dataset('od_acs_1f614ee8')>,\n",
       " <Dataset('od_acs_c2868f47')>,\n",
       " <Dataset('od_acs_c1c86582')>,\n",
       " <Dataset('od_bls_c2f65959')>,\n",
       " <Dataset('od_acs_b581bfd1')>,\n",
       " <Dataset('od_acsquantile_1fc24f44')>,\n",
       " <Dataset('od_tiger_66b9092c')>,\n",
       " <Dataset('od_acs_c5eb4b5e')>,\n",
       " <Dataset('od_acsquantile_7985540b')>,\n",
       " <Dataset('od_bls_c334336e')>,\n",
       " <Dataset('od_bls_b29cadd6')>,\n",
       " <Dataset('od_bls_2b95fc6c')>,\n",
       " <Dataset('od_bls_5c92ccfa')>,\n",
       " <Dataset('od_acs_5c10acf4')>,\n",
       " <Dataset('od_acs_5b8fdefd')>,\n",
       " <Dataset('od_acsquantile_16d4b47e')>,\n",
       " <Dataset('od_acsquantile_55a55662')>,\n",
       " <Dataset('od_acsquantile_7ee89012')>,\n",
       " <Dataset('od_acsquantile_9efa084')>,\n",
       " <Dataset('od_bls_b11879b8')>,\n",
       " <Dataset('od_bls_b7d3bb53')>,\n",
       " <Dataset('od_bls_2edaeae9')>,\n",
       " <Dataset('od_bls_59ddda7f')>,\n",
       " <Dataset('od_bls_c7b94fdc')>,\n",
       " <Dataset('od_bls_b611d164')>,\n",
       " <Dataset('od_bls_2f1880de')>,\n",
       " <Dataset('od_bls_581fb048')>,\n",
       " <Dataset('od_bls_c67b25eb')>,\n",
       " <Dataset('od_bls_b35ec7e1')>,\n",
       " <Dataset('od_bls_2a57965b')>,\n",
       " <Dataset('od_bls_5d50a6cd')>,\n",
       " <Dataset('od_bls_5ed472a3')>,\n",
       " <Dataset('od_bls_c0b0e700')>,\n",
       " <Dataset('od_bls_b0da138f')>,\n",
       " <Dataset('od_bls_29d34235')>,\n",
       " <Dataset('od_acs_550657ce')>]"
      ]
     },
     "execution_count": 45,
     "metadata": {},
     "output_type": "execute_result"
    }
   ],
   "source": [
    "Catalog().country('usa').category('demographics').geography('carto-do-public-data.tiger.geography_usa_countyclipped_2015').datasets"
   ]
  }
 ],
 "metadata": {
  "kernelspec": {
   "display_name": "cartoframes",
   "language": "python",
   "name": "cartoframes"
  },
  "language_info": {
   "codemirror_mode": {
    "name": "ipython",
    "version": 3
   },
   "file_extension": ".py",
   "mimetype": "text/x-python",
   "name": "python",
   "nbconvert_exporter": "python",
   "pygments_lexer": "ipython3",
   "version": "3.7.3"
  }
 },
 "nbformat": 4,
 "nbformat_minor": 2
}
