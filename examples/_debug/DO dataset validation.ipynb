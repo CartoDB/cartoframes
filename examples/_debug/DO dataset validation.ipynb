{
 "cells": [
  {
   "cell_type": "markdown",
   "metadata": {},
   "source": [
    "### Dataset and credentials"
   ]
  },
  {
   "cell_type": "code",
   "execution_count": null,
   "metadata": {},
   "outputs": [],
   "source": [
    "DATASET_ID = ''\n",
    "USERNAME = 'cartoframes-testing'\n",
    "API_KEY = '' # USERNAME API KEY"
   ]
  },
  {
   "cell_type": "markdown",
   "metadata": {},
   "source": [
    "# Test"
   ]
  },
  {
   "cell_type": "code",
   "execution_count": null,
   "metadata": {},
   "outputs": [],
   "source": [
    "import pandas\n",
    "from cartoframes.data.observatory import Catalog, CatalogDataset, Geography\n",
    "from cartoframes.data.observatory.catalog.entity import CatalogList\n",
    "from cartoframes.viz import Map"
   ]
  },
  {
   "cell_type": "markdown",
   "metadata": {},
   "source": [
    "# Catalag"
   ]
  },
  {
   "cell_type": "markdown",
   "metadata": {},
   "source": [
    "### Dataset"
   ]
  },
  {
   "cell_type": "code",
   "execution_count": null,
   "metadata": {},
   "outputs": [],
   "source": [
    "dataset = CatalogDataset.get(DATASET_ID)\n",
    "assert dataset \n",
    "assert dataset.id and isinstance(dataset.id, str)\n",
    "assert dataset.slug and isinstance(dataset.slug, str)\n",
    "assert dataset.variables and isinstance(dataset.variables, CatalogList)\n",
    "assert dataset.variables_groups and isinstance(dataset.variables_groups, CatalogList)\n",
    "assert dataset.name and isinstance(dataset.name, str)\n",
    "assert dataset.description and isinstance(dataset.description, str)\n",
    "assert dataset.provider and isinstance(dataset.provider, str)\n",
    "assert dataset.category and isinstance(dataset.category, str)\n",
    "assert dataset.data_source and isinstance(dataset.data_source, str)\n",
    "assert dataset.country and isinstance(dataset.country, str)\n",
    "assert dataset.language and isinstance(dataset.language, str)\n",
    "assert dataset.geography and isinstance(dataset.geography, str)\n",
    "assert dataset.temporal_aggregation and isinstance(dataset.temporal_aggregation, str)\n",
    "assert dataset.time_coverage and isinstance(dataset.time_coverage, str)\n",
    "assert dataset.update_frequency and isinstance(dataset.update_frequency, str)\n",
    "assert dataset.version and isinstance(dataset.version, str)\n",
    "assert dataset.is_public_data and isinstance(dataset.is_public_data, bool)\n",
    "assert dataset.summary and isinstance(dataset.summary, dict)\n",
    "assert isinstance(dataset.head(), pandas.DataFrame)\n",
    "assert isinstance(dataset.tail(), pandas.DataFrame)\n",
    "assert isinstance(dataset.counts(), pandas.Series)\n",
    "assert isinstance(dataset.fields_by_type(), pandas.Series)\n",
    "assert isinstance(dataset.geom_coverage(), Map)\n",
    "assert isinstance(dataset.describe(), pandas.DataFrame)"
   ]
  },
  {
   "cell_type": "markdown",
   "metadata": {},
   "source": [
    "### Search "
   ]
  },
  {
   "cell_type": "code",
   "execution_count": null,
   "metadata": {},
   "outputs": [],
   "source": [
    "catalog = Catalog()\n",
    "assert dataset in catalog.datasets \n",
    "assert dataset in catalog.country(dataset.country).datasets\n",
    "assert dataset in catalog.category(dataset.category).datasets\n",
    "assert dataset in catalog.country(dataset.country).category(dataset.category).datasets"
   ]
  },
  {
   "cell_type": "markdown",
   "metadata": {},
   "source": [
    "### Geography "
   ]
  },
  {
   "cell_type": "code",
   "execution_count": null,
   "metadata": {},
   "outputs": [],
   "source": [
    "geography = Geography.get(dataset.geography)\n",
    "assert geography \n",
    "assert dataset in geography.datasets \n",
    "assert geography.id and isinstance(geography.id, str)\n",
    "assert geography.slug and isinstance(geography.id, str)\n",
    "assert geography.name and isinstance(geography.name, str)\n",
    "assert geography.description and isinstance(geography.description, str)\n",
    "assert geography.country and isinstance(geography.country, str)\n",
    "assert geography.language and isinstance(geography.language, str)\n",
    "assert geography.provider and isinstance(geography.provider, str)\n",
    "assert geography.geom_coverage and isinstance(geography.geom_coverage, str)\n",
    "assert geography.update_frequency and isinstance(geography.update_frequency, str)\n",
    "assert geography.version and isinstance(geography.version, str)\n",
    "assert geography.is_public_data and isinstance(geography.is_public_data, bool)\n",
    "assert geography.summary and isinstance(geography.summary, dict)"
   ]
  },
  {
   "cell_type": "markdown",
   "metadata": {},
   "source": [
    "### Variables "
   ]
  },
  {
   "cell_type": "code",
   "execution_count": null,
   "metadata": {},
   "outputs": [],
   "source": [
    "variables = dataset.variables\n",
    "for variable in variables:\n",
    "    print(variable.id)\n",
    "    assert variable \n",
    "    assert variable.id and isinstance(variable.id, str)\n",
    "    assert variable.slug and isinstance(variable.id, str)\n",
    "    assert variable.name and isinstance(variable.name, str)\n",
    "    assert variable.description and isinstance(variable.description, str)\n",
    "    assert variable.column_name and isinstance(variable.column_name, str)\n",
    "    assert variable.db_type and isinstance(variable.db_type, str)\n",
    "    assert variable.dataset and isinstance(variable.dataset, str) and dataset.id == variable.dataset\n",
    "    assert variable.agg_method and isinstance(variable.agg_method, str)\n",
    "    assert variable.variable_group and isinstance(variable.variable_group, str)\n",
    "    assert variable.starred and isinstance(variable.starred, str)\n",
    "    assert variable.summary and isinstance(variable.summary, str)\n",
    "    assert variable.project_name and isinstance(variable.project_name, str)\n",
    "    assert variable.schema_name and isinstance(variable.schema_name, str)\n",
    "    assert variable.dataset_name and isinstance(variable.dataset_name, str)"
   ]
  },
  {
   "cell_type": "code",
   "execution_count": null,
   "metadata": {},
   "outputs": [],
   "source": [
    "from cartoframes.auth import set_default_credentials\n",
    "set_default_credentials(USERNAME, API_KEY)"
   ]
  },
  {
   "cell_type": "markdown",
   "metadata": {},
   "source": [
    "# subscription"
   ]
  },
  {
   "cell_type": "code",
   "execution_count": null,
   "metadata": {},
   "outputs": [],
   "source": [
    "subscriptions = Catalog().subscriptions()\n",
    "subscribed_datasets = len(subscriptions.datasets or [])\n",
    "subscribed_geographies = len(subscriptions.geographies or [])"
   ]
  },
  {
   "cell_type": "code",
   "execution_count": null,
   "metadata": {},
   "outputs": [],
   "source": [
    "dataset.subscription_info()\n",
    "dataset.subscribe()"
   ]
  },
  {
   "cell_type": "code",
   "execution_count": null,
   "metadata": {},
   "outputs": [],
   "source": [
    "geography.subscription_info()\n",
    "geography.subscribe()"
   ]
  },
  {
   "cell_type": "markdown",
   "metadata": {},
   "source": [
    "# Enrichment "
   ]
  },
  {
   "cell_type": "code",
   "execution_count": null,
   "metadata": {},
   "outputs": [],
   "source": [
    "from cartoframes.data.observatory import Enrichment\n",
    "\n",
    "enrichment = Enrichment()\n",
    "\n",
    "# TODO: polygons or points\n",
    "\n",
    "# df = generate_points(geography_id, n_points) \n",
    "# enriched_dataset_df = enrichment.enrich_points(\n",
    "#     df,\n",
    "#     variables=dataset.variables\n",
    "# )\n",
    "\n",
    "# df = generate_polygons(geography_id, n_polygons)\n",
    "# enriched_dataset_df = enrichment.enrich_polygons(\n",
    "#     df,\n",
    "#     variables=dataset.variables\n",
    "# )"
   ]
  },
  {
   "cell_type": "markdown",
   "metadata": {},
   "source": [
    "# Download"
   ]
  },
  {
   "cell_type": "code",
   "execution_count": null,
   "metadata": {},
   "outputs": [],
   "source": [
    "# dataset.download()\n",
    "# geography.download()"
   ]
  },
  {
   "cell_type": "markdown",
   "metadata": {},
   "source": [
    "# undo subscriptions "
   ]
  },
  {
   "cell_type": "code",
   "execution_count": null,
   "metadata": {},
   "outputs": [],
   "source": [
    "import requests\n",
    "\n",
    "unsubscribe_url = 'https://{}.carto.com/api/v4/do/subscriptions?api_key={}&id={}'\n",
    "\n",
    "r1 = requests.delete(unsubscribe_url.format(USERNAME, API_KEY, dataset.id))\n",
    "r2 = requests.delete(unsubscribe_url.format(USERNAME, API_KEY, geography.id))\n",
    "\n",
    "subscriptions = Catalog().subscriptions()\n",
    "assert subscribed_datasets == len(subscriptions.datasets or [])\n",
    "assert subscribed_geographies == len(subscriptions.geographies or [])"
   ]
  }
 ],
 "metadata": {
  "kernelspec": {
   "display_name": "Python 3",
   "language": "python",
   "name": "python3"
  },
  "language_info": {
   "codemirror_mode": {
    "name": "ipython",
    "version": 3
   },
   "file_extension": ".py",
   "mimetype": "text/x-python",
   "name": "python",
   "nbconvert_exporter": "python",
   "pygments_lexer": "ipython3",
   "version": "3.7.3"
  }
 },
 "nbformat": 4,
 "nbformat_minor": 2
}
