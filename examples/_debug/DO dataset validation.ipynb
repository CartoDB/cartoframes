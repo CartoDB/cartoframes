{
 "cells": [
  {
   "cell_type": "markdown",
   "metadata": {},
   "source": [
    "### Dataset and credentials"
   ]
  },
  {
   "cell_type": "code",
   "execution_count": 64,
   "metadata": {},
   "outputs": [],
   "source": [
    "DATASET_ID = ''\n",
    "API_KEY = ''"
   ]
  },
  {
   "cell_type": "markdown",
   "metadata": {},
   "source": [
    "# Test"
   ]
  },
  {
   "cell_type": "code",
   "execution_count": 57,
   "metadata": {},
   "outputs": [],
   "source": [
    "import pandas\n",
    "from cartoframes.data.observatory import Catalog, CatalogDataset, Geography\n",
    "from cartoframes.data.observatory.catalog.entity import CatalogList\n",
    "from cartoframes.viz import Map"
   ]
  },
  {
   "cell_type": "markdown",
   "metadata": {},
   "source": [
    "# Catalag"
   ]
  },
  {
   "cell_type": "markdown",
   "metadata": {},
   "source": [
    "### Dataset"
   ]
  },
  {
   "cell_type": "code",
   "execution_count": 62,
   "metadata": {},
   "outputs": [],
   "source": [
    "dataset = CatalogDataset.get(DATASET_ID)\n",
    "assert dataset \n",
    "assert dataset.id and isinstance(dataset.id, str)\n",
    "assert dataset.slug and isinstance(dataset.slug, str)\n",
    "assert dataset.variables and isinstance(dataset.variables, CatalogList)\n",
    "assert dataset.variables_groups and isinstance(dataset.variables_groups, CatalogList)\n",
    "assert dataset.name and isinstance(dataset.name, str)\n",
    "assert dataset.description and isinstance(dataset.description, str)\n",
    "assert dataset.provider and isinstance(dataset.provider, str)\n",
    "assert dataset.category and isinstance(dataset.category, str)\n",
    "assert dataset.data_source and isinstance(dataset.data_source, str)\n",
    "assert dataset.country and isinstance(dataset.country, str)\n",
    "assert dataset.language and isinstance(dataset.language, str)\n",
    "assert dataset.geography and isinstance(dataset.geography, str)\n",
    "assert dataset.temporal_aggregation and isinstance(dataset.temporal_aggregation, str)\n",
    "assert dataset.time_coverage and isinstance(dataset.time_coverage, str)\n",
    "assert dataset.update_frequency and isinstance(dataset.update_frequency, str)\n",
    "assert dataset.version and isinstance(dataset.version, str)\n",
    "assert dataset.is_public_data and isinstance(dataset.is_public_data, bool)\n",
    "assert dataset.summary and isinstance(dataset.summary, dict)\n",
    "assert isinstance(dataset.head(), pandas.DataFrame)\n",
    "assert isinstance(dataset.tail(), pandas.DataFrame)\n",
    "assert isinstance(dataset.counts(), pandas.Series)\n",
    "assert isinstance(dataset.fields_by_type(), pandas.Series)\n",
    "assert isinstance(dataset.geom_coverage(), Map)\n",
    "assert isinstance(dataset.describe(), pandas.DataFrame)"
   ]
  },
  {
   "cell_type": "markdown",
   "metadata": {},
   "source": [
    "### Search "
   ]
  },
  {
   "cell_type": "code",
   "execution_count": 68,
   "metadata": {},
   "outputs": [],
   "source": [
    "catalog = Catalog()\n",
    "assert dataset in catalog.datasets \n",
    "assert dataset in catalog.country(dataset.country).datasets\n",
    "assert dataset in catalog.category(dataset.category).datasets\n",
    "assert dataset in catalog.country(dataset.country).category(dataset.category).datasets"
   ]
  },
  {
   "cell_type": "markdown",
   "metadata": {},
   "source": [
    "### Geography "
   ]
  },
  {
   "cell_type": "code",
   "execution_count": 80,
   "metadata": {},
   "outputs": [],
   "source": [
    "geography = Geography.get(dataset.geography)\n",
    "assert geography \n",
    "assert geography.id and isinstance(geography.id, str)\n",
    "assert geography.slug and isinstance(geography.id, str)\n",
    "assert geography.name and isinstance(geography.name, str)\n",
    "assert geography.description and isinstance(geography.description, str)\n",
    "assert geography.country and isinstance(geography.country, str)\n",
    "assert geography.language and isinstance(geography.language, str)\n",
    "assert geography.provider and isinstance(geography.provider, str)\n",
    "assert geography.geom_coverage and isinstance(geography.geom_coverage, str)\n",
    "assert geography.update_frequency and isinstance(geography.update_frequency, str)\n",
    "assert geography.version and isinstance(geography.version, str)\n",
    "assert geography.is_public_data and isinstance(geography.is_public_data, bool)\n",
    "assert geography.summary and isinstance(geography.summary, dict)"
   ]
  },
  {
   "cell_type": "markdown",
   "metadata": {},
   "source": [
    "### Variables "
   ]
  },
  {
   "cell_type": "code",
   "execution_count": null,
   "metadata": {},
   "outputs": [],
   "source": [
    "from cartoframes.auth import set_default_credentials\n",
    "set_default_credentials('cartoframes-testing', API_KEY)"
   ]
  },
  {
   "cell_type": "markdown",
   "metadata": {},
   "source": [
    "### subscription"
   ]
  },
  {
   "cell_type": "code",
   "execution_count": null,
   "metadata": {},
   "outputs": [],
   "source": [
    "subscribe\n",
    "subscription_info"
   ]
  },
  {
   "cell_type": "markdown",
   "metadata": {},
   "source": [
    "### Enrichment "
   ]
  },
  {
   "cell_type": "markdown",
   "metadata": {},
   "source": [
    "### Download"
   ]
  }
 ],
 "metadata": {
  "kernelspec": {
   "display_name": "Python 3",
   "language": "python",
   "name": "python3"
  },
  "language_info": {
   "codemirror_mode": {
    "name": "ipython",
    "version": 3
   },
   "file_extension": ".py",
   "mimetype": "text/x-python",
   "name": "python",
   "nbconvert_exporter": "python",
   "pygments_lexer": "ipython3",
   "version": "3.7.3"
  }
 },
 "nbformat": 4,
 "nbformat_minor": 2
}
