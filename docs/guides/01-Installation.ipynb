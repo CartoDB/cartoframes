{
 "cells": [
  {
   "cell_type": "markdown",
   "metadata": {},
   "source": [
    "## Installation\n",
    "\n",
    "Welcome! This guide contains the information you need to install CARTOframes."
   ]
  },
  {
   "cell_type": "markdown",
   "metadata": {},
   "source": [
    "### System requirements\n",
    "\n",
    "#### Operating System\n",
    "\n",
    "Windows, macOS, GNU/Linux\n",
    "\n",
    "#### Python Interpreter\n",
    "\n",
    "Python 3.5+ (previous versions are not supported)\n",
    "\n",
    "You can check your version by running:\n",
    "\n",
    "```\n",
    "python --version\n",
    "```\n",
    "\n",
    "If you don't have Python installed, please install the latest version from [python.org](https://python.org/) or refer to the [Installing Python guide](https://docs.python-guide.org/starting/installation/).\n",
    "\n",
    "#### Python Environments\n",
    "\n",
    "Although installing a Python environment is not strictly required, is highly recommended to have cleaner and more organized installations. You can check the tutorial on [Creating Virtual Environments](https://packaging.python.org/tutorials/installing-packages/#creating-virtual-environments) or [Managing Conda Environments](https://docs.conda.io/projects/conda/en/latest/user-guide/tasks/manage-environments.html)."
   ]
  },
  {
   "cell_type": "markdown",
   "metadata": {
    "heading_collapsed": true
   },
   "source": [
    "### Install it with `pip`\n",
    "\n",
    "The latest stable version of CARTOframes may be installed or upgraded via [pip](https://pypi.org/project/pip/) (Python Package Manager) by running one of the following commands:\n",
    "\n",
    "Install the package:\n",
    "\n",
    "```\n",
    "pip install cartoframes\n",
    "```\n",
    "\n",
    "Upgrade the package to the latest version:\n",
    "\n",
    "```\n",
    "pip install --upgrade cartoframes\n",
    "```\n",
    "\n",
    "Install a specific version:\n",
    "\n",
    "```\n",
    "pip install cartoframes==1.x.y\n",
    "```\n",
    "\n",
    "If pip does not exist, you have to install it manually. See https://pip.pypa.io/en/stable/installing/.\n",
    "\n",
    "#### Optional Dependencies\n",
    "\n",
    "[RTree](https://github.com/Toblerity/rtree) is a spatial index package to improve performance and isrequired for overlay operations. It provides an interface to [libspatialindex](https://github.com/libspatialindex/libspatialindex).\n",
    "\n",
    "\n",
    "#### Windows Users\n",
    "\n",
    "CARTOframes needs that [Shapely](https://github.com/Toblerity/Shapely) and [Fiona](https://github.com/Toblerity/Fiona) libraries are already installed in your system. Execute these commands to install CARTOframes correctly:\n",
    "```bash\n",
    "pip install shapely\n",
    "conda install -c conda-forge fiona\n",
    "pip install cartoframes\n",
    "```"
   ]
  },
  {
   "cell_type": "markdown",
   "metadata": {},
   "source": [
    "### Use Jupyter Notebooks\n",
    "\n",
    "CARTOframes is created to run in [Jupyter Notebooks](https://jupyter.org/), which allows rendering powerful HTML visualizations. If you are not familiar with Jupyter Notebooks, we recommend reading this [introduction](https://jupyter-notebook-beginner-guide.readthedocs.io/en/latest/what_is_jupyter.html).\n",
    "\n",
    "To install CARTOframes through a Jupyter Notebook, run this command:\n",
    "\n",
    "```\n",
    "!pip install cartoframes\n",
    "```"
   ]
  },
  {
   "cell_type": "markdown",
   "metadata": {},
   "source": [
    "### About Metrics\n",
    "\n",
    "We collect data on the usage of CARTOframes to understand how it is used and apply this information to improve the library. Usage data includes information like \"map_created,\" which contains the when a map is created. The collected usage data is anonymous, it does not contain the data processed, just the information of the event, and is handled in accordance with our Privacy Notice <https://carto.com/privacy/> .\n",
    "You may choose to opt out by calling `cartoframes.utils.setup_metrics(False)`."
   ]
  }
 ],
 "metadata": {
  "kernelspec": {
   "display_name": "Python 3",
   "language": "python",
   "name": "python3"
  },
  "language_info": {
   "codemirror_mode": {
    "name": "ipython",
    "version": 3
   },
   "file_extension": ".py",
   "mimetype": "text/x-python",
   "name": "python",
   "nbconvert_exporter": "python",
   "pygments_lexer": "ipython3",
   "version": "3.6.7"
  }
 },
 "nbformat": 4,
 "nbformat_minor": 4
}
